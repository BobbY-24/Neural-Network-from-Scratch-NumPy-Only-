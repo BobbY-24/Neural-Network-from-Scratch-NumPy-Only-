{
 "cells": [
  {
   "cell_type": "code",
   "id": "initial_id",
   "metadata": {
    "collapsed": true,
    "ExecuteTime": {
     "end_time": "2025-08-30T23:35:04.956289Z",
     "start_time": "2025-08-30T23:35:04.955056Z"
    }
   },
   "source": [
    "import numpy as np\n",
    "import matplotlib.pyplot as plt\n",
    "import pandas as pd"
   ],
   "outputs": [],
   "execution_count": 1
  },
  {
   "metadata": {
    "ExecuteTime": {
     "end_time": "2025-08-31T00:43:05.551667Z",
     "start_time": "2025-08-31T00:43:04.267867Z"
    }
   },
   "cell_type": "code",
   "source": "data = pd.read_csv('/Users/bobyan/Desktop/Kaggle Datasets/train.csv').values",
   "id": "d868625897da0387",
   "outputs": [],
   "execution_count": 54
  },
  {
   "metadata": {
    "ExecuteTime": {
     "end_time": "2025-08-31T00:43:08.847656Z",
     "start_time": "2025-08-31T00:43:08.672835Z"
    }
   },
   "cell_type": "code",
   "source": [
    "m = data.shape[0]\n",
    "n = data.shape[1] - 1  # number of features (784)\n",
    "\n",
    "Y_all = data[:, 0].astype(int)             # labels (0–9)\n",
    "X_all = (data[:, 1:].T) / 255.0            # normalize pixels, shape (784, m)\n",
    "\n",
    "# Split: first 1000 dev, rest train\n",
    "X_dev, Y_dev = X_all[:, :1000], Y_all[:1000]\n",
    "X_train, Y_train = X_all[:, 1000:], Y_all[1000:]\n"
   ],
   "id": "55b0ecb653879043",
   "outputs": [],
   "execution_count": 56
  },
  {
   "metadata": {
    "ExecuteTime": {
     "end_time": "2025-08-31T00:43:28.850906Z",
     "start_time": "2025-08-31T00:43:28.843012Z"
    }
   },
   "cell_type": "code",
   "source": [
    "def init_params():\n",
    "    W1 = np.random.randn(10, 784) * 0.01\n",
    "    b1 = np.zeros((10, 1))\n",
    "    W2 = np.random.randn(10, 10) * 0.01\n",
    "    b2 = np.zeros((10, 1))\n",
    "    return W1, b1, W2, b2\n",
    "\n",
    "def ReLU(Z):\n",
    "    return np.maximum(0, Z)\n",
    "\n",
    "def ReLU_deriv(Z):\n",
    "    return Z > 0\n",
    "\n",
    "def softmax(Z):\n",
    "    expZ = np.exp(Z - np.max(Z, axis=0, keepdims=True))  # stability trick\n",
    "    return expZ / expZ.sum(axis=0, keepdims=True)\n"
   ],
   "id": "d83c5e31420f13bc",
   "outputs": [],
   "execution_count": 57
  },
  {
   "metadata": {
    "ExecuteTime": {
     "end_time": "2025-08-31T00:43:40.589449Z",
     "start_time": "2025-08-31T00:43:40.579620Z"
    }
   },
   "cell_type": "code",
   "source": [
    "def forward_prop(W1, b1, W2, b2, X):\n",
    "    Z1 = W1.dot(X) + b1\n",
    "    A1 = ReLU(Z1)\n",
    "    Z2 = W2.dot(A1) + b2\n",
    "    A2 = softmax(Z2)\n",
    "    return Z1, A1, Z2, A2\n",
    "\n",
    "def one_hot(Y):\n",
    "    n_classes = Y.max() + 1\n",
    "    one_hot_Y = np.zeros((n_classes, Y.size))\n",
    "    one_hot_Y[Y, np.arange(Y.size)] = 1\n",
    "    return one_hot_Y\n",
    "\n",
    "def backward_prop(Z1, A1, Z2, A2, W2, X, Y):\n",
    "    m = X.shape[1]\n",
    "    one_hot_Y = one_hot(Y)               # (10, m)\n",
    "\n",
    "    dZ2 = A2 - one_hot_Y\n",
    "    dW2 = (1/m) * dZ2.dot(A1.T)\n",
    "    db2 = (1/m) * np.sum(dZ2, axis=1, keepdims=True)\n",
    "\n",
    "    dZ1 = W2.T.dot(dZ2) * ReLU_deriv(Z1)\n",
    "    dW1 = (1/m) * dZ1.dot(X.T)\n",
    "    db1 = (1/m) * np.sum(dZ1, axis=1, keepdims=True)\n",
    "\n",
    "    return dW1, db1, dW2, db2\n",
    "\n",
    "\n",
    "# -------------------\n",
    "# 4. Update\n",
    "# -------------------\n",
    "def update_params(W1, b1, W2, b2, dW1, db1, dW2, db2, alpha):\n",
    "    W1 -= alpha * dW1\n",
    "    b1 -= alpha * db1\n",
    "    W2 -= alpha * dW2\n",
    "    b2 -= alpha * db2\n",
    "    return W1, b1, W2, b2"
   ],
   "id": "5707e3bd089e6d64",
   "outputs": [],
   "execution_count": 58
  },
  {
   "metadata": {
    "ExecuteTime": {
     "end_time": "2025-08-31T00:43:50.637138Z",
     "start_time": "2025-08-31T00:43:50.630814Z"
    }
   },
   "cell_type": "code",
   "source": [
    "def get_predictions(A2):\n",
    "    return np.argmax(A2, axis=0)\n",
    "\n",
    "def get_accuracy(predictions, Y):\n",
    "    return np.mean(predictions == Y)\n",
    "\n"
   ],
   "id": "6cc7fd28362aa909",
   "outputs": [],
   "execution_count": 59
  },
  {
   "metadata": {
    "ExecuteTime": {
     "end_time": "2025-08-31T00:43:58.657934Z",
     "start_time": "2025-08-31T00:43:58.652182Z"
    }
   },
   "cell_type": "code",
   "source": [
    "def gradient_descent(X, Y, alpha, iterations):\n",
    "    W1, b1, W2, b2 = init_params()\n",
    "\n",
    "    for i in range(iterations):\n",
    "        Z1, A1, Z2, A2 = forward_prop(W1, b1, W2, b2, X)\n",
    "        dW1, db1, dW2, db2 = backward_prop(Z1, A1, Z2, A2, W2, X, Y)\n",
    "        W1, b1, W2, b2 = update_params(W1, b1, W2, b2, dW1, db1, dW2, db2, alpha)\n",
    "\n",
    "        if i % 50 == 0:\n",
    "            predictions = get_predictions(A2)\n",
    "            acc = get_accuracy(predictions, Y)\n",
    "            print(f\"Iteration {i} → Training Accuracy: {acc:.4f}\")\n",
    "\n",
    "    return W1, b1, W2, b2"
   ],
   "id": "967047434f233346",
   "outputs": [],
   "execution_count": 60
  },
  {
   "metadata": {
    "ExecuteTime": {
     "end_time": "2025-08-31T00:44:59.191978Z",
     "start_time": "2025-08-31T00:44:04.819265Z"
    }
   },
   "cell_type": "code",
   "source": [
    "W1, b1, W2, b2 = gradient_descent(X_train, Y_train, alpha=0.1, iterations=500)\n",
    "\n",
    "# Dev set evaluation\n",
    "_, _, _, A2_dev = forward_prop(W1, b1, W2, b2, X_dev)\n",
    "dev_preds = get_predictions(A2_dev)\n",
    "print(\"Dev set accuracy:\", get_accuracy(dev_preds, Y_dev))"
   ],
   "id": "7c709df6596293fa",
   "outputs": [
    {
     "name": "stdout",
     "output_type": "stream",
     "text": [
      "Iteration 0 → Training Accuracy: 0.0924\n",
      "Iteration 50 → Training Accuracy: 0.2452\n",
      "Iteration 100 → Training Accuracy: 0.4828\n",
      "Iteration 150 → Training Accuracy: 0.7061\n",
      "Iteration 200 → Training Accuracy: 0.7871\n",
      "Iteration 250 → Training Accuracy: 0.8231\n",
      "Iteration 300 → Training Accuracy: 0.8472\n",
      "Iteration 350 → Training Accuracy: 0.8653\n",
      "Iteration 400 → Training Accuracy: 0.8788\n",
      "Iteration 450 → Training Accuracy: 0.8868\n",
      "Dev set accuracy: 0.898\n"
     ]
    }
   ],
   "execution_count": 61
  },
  {
   "metadata": {
    "ExecuteTime": {
     "end_time": "2025-08-31T00:48:33.602161Z",
     "start_time": "2025-08-31T00:48:33.587829Z"
    }
   },
   "cell_type": "code",
   "source": [
    "def test_predictions(indices, W1, b1, W2, b2):\n",
    "    plt.figure(figsize=(15, 3))  # wide figure for 5 images\n",
    "    \n",
    "    for i, index in enumerate(indices):\n",
    "        current_image = X_train[:, index, None]\n",
    "        prediction = make_predictions(current_image, W1, b1, W2, b2)\n",
    "        label = Y_train[index]\n",
    "        \n",
    "        # reshape image for display\n",
    "        image_display = current_image.reshape((28, 28)) * 255\n",
    "        \n",
    "        # plot image\n",
    "        plt.subplot(1, 5, i+1)  # 1 row, 5 columns\n",
    "        plt.imshow(image_display, cmap=\"gray\", interpolation='nearest')\n",
    "        plt.title(f\"P: {prediction[0]}\\nL: {label}\")\n",
    "        plt.axis(\"off\")\n",
    "    \n",
    "    plt.show()\n"
   ],
   "id": "cb2310e9c714f000",
   "outputs": [],
   "execution_count": 62
  },
  {
   "metadata": {
    "ExecuteTime": {
     "end_time": "2025-08-31T00:49:44.489215Z",
     "start_time": "2025-08-31T00:49:44.424848Z"
    }
   },
   "cell_type": "code",
   "source": "test_prediction(1021, W1, b1, W2, b2)",
   "id": "afdd30f432d282e5",
   "outputs": [
    {
     "name": "stdout",
     "output_type": "stream",
     "text": [
      "Prediction: [3] \n",
      " Label: 3\n"
     ]
    },
    {
     "data": {
      "text/plain": [
       "<Figure size 640x480 with 1 Axes>"
      ],
      "image/png": "[encoded data removed]"
     },
     "metadata": {},
     "output_type": "display_data"
    }
   ],
   "execution_count": 71
  },
  {
   "metadata": {
    "ExecuteTime": {
     "end_time": "2025-08-31T00:51:21.754114Z",
     "start_time": "2025-08-31T00:51:21.738715Z"
    }
   },
   "cell_type": "code",
   "source": [
    "def test_random_predictions(W1, b1, W2, b2, num_images=5):\n",
    "    indices = np.random.choice(X_train.shape[1], num_images, replace=False)\n",
    "    plt.figure(figsize=(15, 3))\n",
    "    \n",
    "    for i, index in enumerate(indices):\n",
    "        current_image = X_train[:, index, None]\n",
    "        prediction = make_predictions(current_image, W1, b1, W2, b2)\n",
    "        label = Y_train[index]\n",
    "        \n",
    "        image_display = current_image.reshape((28, 28)) * 255\n",
    "        \n",
    "        plt.subplot(1, num_images, i+1)\n",
    "        plt.imshow(image_display, cmap=\"gray\", interpolation='nearest')\n",
    "        plt.title(f\"P: {prediction[0]}\\nL: {label}\")\n",
    "        plt.axis(\"off\")\n",
    "    plt.show()\n"
   ],
   "id": "dc1488a82b6e18e6",
   "outputs": [],
   "execution_count": 73
  },
  {
   "metadata": {
    "ExecuteTime": {
     "end_time": "2025-08-31T00:51:28.227159Z",
     "start_time": "2025-08-31T00:51:28.089022Z"
    }
   },
   "cell_type": "code",
   "source": "test_random_predictions(W1, b1, W2, b2)\n",
   "id": "23147d8763f14baf",
   "outputs": [
    {
     "data": {
      "text/plain": [
       "<Figure size 1500x300 with 5 Axes>"
      ],
      "image/png": "[encoded data removed]"
     },
     "metadata": {},
     "output_type": "display_data"
    }
   ],
   "execution_count": 75
  },
  {
   "metadata": {},
   "cell_type": "code",
   "outputs": [],
   "execution_count": null,
   "source": "",
   "id": "b620ecd57eb92562"
  }
 ],
 "metadata": {
  "kernelspec": {
   "display_name": "Python 3",
   "language": "python",
   "name": "python3"
  },
  "language_info": {
   "codemirror_mode": {
    "name": "ipython",
    "version": 2
   },
   "file_extension": ".py",
   "mimetype": "text/x-python",
   "name": "python",
   "nbconvert_exporter": "python",
   "pygments_lexer": "ipython2",
   "version": "2.7.6"
  }
 },
 "nbformat": 4,
 "nbformat_minor": 5
}
